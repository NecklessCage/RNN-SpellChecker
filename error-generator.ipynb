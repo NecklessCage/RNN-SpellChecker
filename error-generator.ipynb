{
 "cells": [
  {
   "cell_type": "code",
   "execution_count": 77,
   "metadata": {
    "ExecuteTime": {
     "end_time": "2018-07-30T07:54:53.915842Z",
     "start_time": "2018-07-30T07:54:53.911179Z"
    }
   },
   "outputs": [],
   "source": [
    "import re\n",
    "import random\n",
    "import numpy as np"
   ]
  },
  {
   "cell_type": "code",
   "execution_count": 2,
   "metadata": {
    "ExecuteTime": {
     "end_time": "2018-07-30T06:47:10.256874Z",
     "start_time": "2018-07-30T06:47:10.244728Z"
    }
   },
   "outputs": [
    {
     "name": "stdout",
     "output_type": "stream",
     "text": [
      "1603\n",
      "['ကိုကို', 'ဘာလဲ', 'ကိုကို့ဟာကြီးခဏပိတ်လိုက်စမ်းပါ', 'ဘာဖြစ်လို့ပိတ်ရမှာလဲ', 'ထွဋ်ဘုန်းဇော်သည်ဗွီဒီယိုကြည့်နေရာမှညီမသရဖီဘုန်းဇော်အားပြန်အော်လိုက်သည်။', 'ခဏလေးပါကိုကိုရာ…တစ်မိနစ်လောက်ပါ', 'အရေးတကြီးဘာဖြစ်နေရတာလဲ', 'ထွဋ်ဘုန်းဇော်သည်တီဗွီကိုပိတ်ပေးလိုက်သည်။သူ့အောက်ရှစ်နှစ်ခန့်ငယ်သောညီမထွေးလေးဖြစ်သဖြင့်သရဖီဘုန်းဇော်၏ဆန္ဒကိုမငြင်းပယ်လိုပေ။', 'ဟော', 'သရဖီဘုန်းဇော်၏မျက်လုံးဝိုင်းလေးများသည်ဝင်းလက်သွားပြီးပြတင်းပေါက်ဆီဘက်သို့ပြေးသွားသည်။']\n"
     ]
    }
   ],
   "source": [
    "with open('data/rnn-mm-novel.txt', 'r') as handle:\n",
    "    sentences = [l.replace(' ', '').replace('\\n', '').replace('”', '').replace(\n",
    "        '“', '').replace('\\ufeff', '') for l in handle.readlines()]\n",
    "print(len(sentences))\n",
    "print(sentences[:10])"
   ]
  },
  {
   "cell_type": "code",
   "execution_count": 109,
   "metadata": {
    "ExecuteTime": {
     "end_time": "2018-07-30T09:35:16.873213Z",
     "start_time": "2018-07-30T09:35:16.566976Z"
    }
   },
   "outputs": [],
   "source": [
    "def generate_errors(sentences=['သရဖီဘုန်းဇော်၏မျက်လုံးဝိုင်းလေးများသည်ဝင်းလက်သွားပြီးပြတင်းပေါက်ဆီဘက်သို့ပြေးသွားသည်။'],\n",
    "                    error=True, omission=True, repetition=True,\n",
    "                    misspell_proba=0.25, omission_proba=0.125, repetition_proba=0.125,\n",
    "                    verbose=False):\n",
    "    # there are currently 3 types of errors\n",
    "    # misspelled errors: ပ်  က်  တ်, ခင်ဗျား ခများ\n",
    "    # error by omission: း, ေကာင်\n",
    "    # repetition: းးးးးးးး\n",
    "\n",
    "    result = list()\n",
    "\n",
    "    if False:\n",
    "        error_file = './data/spelling-errors/errors.mm.txt'\n",
    "        misspelled = {}\n",
    "        with open(error_file, 'r') as handle:\n",
    "            for line in handle:\n",
    "                elements = re.split(r'[ ]+', line.replace('\\n', ''))\n",
    "                misspelled[elements[0]] = elements[1:]\n",
    "\n",
    "    omission_file = './data/spelling-errors/omissions.mm.txt'\n",
    "    with open(omission_file, 'r') as handle:\n",
    "        omissions = [l.replace('\\n', '') for l in handle.readlines()]\n",
    "\n",
    "    repetition_file = './data/spelling-errors/repetitions.mm.txt'\n",
    "    with open(repetition_file, 'r') as handle:\n",
    "        repetitions = [l.replace('\\n', '') for l in handle.readlines()]\n",
    "\n",
    "    for sentence in sentences:\n",
    "        print('Original Sentence:')\n",
    "        print(sentence)\n",
    "        if error:\n",
    "            # misspelled\n",
    "            misspelled = {}\n",
    "            misspell_match_count = 0\n",
    "            misspell_noise_count = 0\n",
    "            for err in list(misspelled.keys()):\n",
    "                if err in sentence:\n",
    "                    if verbose:\n",
    "                        print('Match found:', err)\n",
    "                    misspell_match_count += 1\n",
    "                    if random.random() < misspell_proba:\n",
    "                        misspell_noise_count += 1\n",
    "                        error_choice = random.randint(\n",
    "                            0, len(misspelled[err])-1)\n",
    "                        if verbose:\n",
    "                            print('Replacing {} with {}'.format(\n",
    "                                misspelled[err][error_choice], err))\n",
    "                        sentence = sentence.replace(\n",
    "                            err, misspelled[err][error_choice])\n",
    "            print('*'*100)\n",
    "            print('Misspell matches:', misspell_match_count)\n",
    "            print('Misspell noise added:', misspell_noise_count)\n",
    "            if misspell_noise_count > 0:\n",
    "                print(sentence)\n",
    "            print('*'*100)\n",
    "\n",
    "        if omission:\n",
    "            # omissions\n",
    "            omission_match_count = 0\n",
    "            omission_noise_count = 0\n",
    "            for om in omissions:\n",
    "                if om in sentence:\n",
    "                    # if the character is in the sentence,\n",
    "                    # loop all appearances and remove with probability\n",
    "                    match_indices = np.where(om == np.array(list(sentence)))[0]\n",
    "                    omission_match_count += match_indices.shape[0]\n",
    "                    for indx in match_indices:\n",
    "                        if random.random() < omission_proba:\n",
    "                            if verbose:\n",
    "                                print('Removing:', om)\n",
    "                            # replace with a space to preserve length\n",
    "                            sentence = sentence[:indx] + \\\n",
    "                                ' ' + sentence[indx+1:]\n",
    "                            omission_noise_count += 1\n",
    "            sentence = sentence.replace(' ', '')\n",
    "            print('*'*100)\n",
    "            print('Omission matches:', omission_match_count)\n",
    "            print('Omission noise added:', omission_noise_count)\n",
    "            if omission_noise_count > 0:\n",
    "                print(sentence)\n",
    "            print('*'*100)\n",
    "\n",
    "        if repetition:\n",
    "            # repetitions\n",
    "            repetition_match_count = 0\n",
    "            repetition_noise_count = 0\n",
    "            for ch in repetitions:\n",
    "                if ch in sentence:\n",
    "                    # if the character is in the sentence,\n",
    "                    # loop all appearances and repeat with probability\n",
    "                    match_indices = np.where(ch == np.array(list(sentence)))[0]\n",
    "                    repetition_match_count += match_indices.shape[0]\n",
    "                    for indx in match_indices:\n",
    "                        if random.random() < repetition_proba:\n",
    "                            if verbose:\n",
    "                                print('Repeating:', ch)\n",
    "                            # add 1 to indices for adding a new character\n",
    "                            sentence = sentence[:indx] + ch + sentence[indx:]\n",
    "                            repetition_noise_count += 1\n",
    "            print('*'*100)\n",
    "            print('Repetition matches:', repetition_match_count)\n",
    "            print('Repetition noise added:', repetition_noise_count)\n",
    "            if repetition_noise_count > 0:\n",
    "                print(sentence)            \n",
    "            print('*'*100)\n",
    "        result.append(sentence)\n",
    "    return result"
   ]
  },
  {
   "cell_type": "code",
   "execution_count": 108,
   "metadata": {
    "ExecuteTime": {
     "end_time": "2018-07-30T08:27:28.912413Z",
     "start_time": "2018-07-30T08:27:28.900319Z"
    }
   },
   "outputs": [
    {
     "name": "stdout",
     "output_type": "stream",
     "text": [
      "Original Sentence:\n",
      "ကိုကို\n",
      "****************************************************************************************************\n",
      "Misspell matches: 0\n",
      "Misspell noise added: 0\n",
      "****************************************************************************************************\n",
      "****************************************************************************************************\n",
      "Omission matches: 0\n",
      "Omission noise added: 0\n",
      "****************************************************************************************************\n",
      "****************************************************************************************************\n",
      "Repetition matches: 4\n",
      "Repetition noise added: 0\n",
      "****************************************************************************************************\n",
      "Original Sentence:\n",
      "ဘာလဲ\n",
      "****************************************************************************************************\n",
      "Misspell matches: 0\n",
      "Misspell noise added: 0\n",
      "****************************************************************************************************\n",
      "****************************************************************************************************\n",
      "Omission matches: 0\n",
      "Omission noise added: 0\n",
      "****************************************************************************************************\n",
      "****************************************************************************************************\n",
      "Repetition matches: 1\n",
      "Repetition noise added: 0\n",
      "****************************************************************************************************\n",
      "Original Sentence:\n",
      "ကိုကို့ဟာကြီးခဏပိတ်လိုက်စမ်းပါ\n",
      "****************************************************************************************************\n",
      "Misspell matches: 0\n",
      "Misspell noise added: 0\n",
      "****************************************************************************************************\n",
      "****************************************************************************************************\n",
      "Omission matches: 4\n",
      "Omission noise added: 0\n",
      "****************************************************************************************************\n",
      "****************************************************************************************************\n",
      "Repetition matches: 16\n",
      "Repetition noise added: 4\n",
      "ကိိုကိုု့ဟာကြီီးးခဏပိတ်လိုက်စမ်းပါ\n",
      "****************************************************************************************************\n",
      "Original Sentence:\n",
      "ဘာဖြစ်လို့ပိတ်ရမှာလဲ\n",
      "****************************************************************************************************\n",
      "Misspell matches: 0\n",
      "Misspell noise added: 0\n",
      "****************************************************************************************************\n",
      "****************************************************************************************************\n",
      "Omission matches: 2\n",
      "Omission noise added: 0\n",
      "****************************************************************************************************\n",
      "****************************************************************************************************\n",
      "Repetition matches: 10\n",
      "Repetition noise added: 1\n",
      "ဘာဖြစ်လို့ပိတ်ရမှှာလဲ\n",
      "****************************************************************************************************\n",
      "Original Sentence:\n",
      "ထွဋ်ဘုန်းဇော်သည်ဗွီဒီယိုကြည့်နေရာမှညီမသရဖီဘုန်းဇော်အားပြန်အော်လိုက်သည်။\n",
      "****************************************************************************************************\n",
      "Misspell matches: 0\n",
      "Misspell noise added: 0\n",
      "****************************************************************************************************\n",
      "****************************************************************************************************\n",
      "Omission matches: 6\n",
      "Omission noise added: 1\n",
      "ထွဋ်ဘုန်းဇော်သည်ဗွီဒီယိုကြည်နေရာမှညီမသရဖီဘုန်းဇော်အားပြန်အော်လိုက်သည်။\n",
      "****************************************************************************************************\n",
      "****************************************************************************************************\n",
      "Repetition matches: 38\n",
      "Repetition noise added: 6\n",
      "ထွွဋ်ဘုန််းဇော်သည်ဗွီဒီယိုကြြည်နေရာမှှညီမသရဖီဘုန်းဇောာ်အားပြ်န်အော်လိုက်သည်။\n",
      "****************************************************************************************************\n"
     ]
    },
    {
     "data": {
      "text/plain": [
       "['ကိုကို',\n",
       " 'ဘာလဲ',\n",
       " 'ကိိုကိုု့ဟာကြီီးးခဏပိတ်လိုက်စမ်းပါ',\n",
       " 'ဘာဖြစ်လို့ပိတ်ရမှှာလဲ',\n",
       " 'ထွွဋ်ဘုန််းဇော်သည်ဗွီဒီယိုကြြည်နေရာမှှညီမသရဖီဘုန်းဇောာ်အားပြ်န်အော်လိုက်သည်။']"
      ]
     },
     "execution_count": 108,
     "metadata": {},
     "output_type": "execute_result"
    }
   ],
   "source": [
    "x = generate_errors(sentences=sentences[:5],verbose=False)\n",
    "x"
   ]
  },
  {
   "cell_type": "code",
   "execution_count": null,
   "metadata": {},
   "outputs": [],
   "source": []
  }
 ],
 "metadata": {
  "kernelspec": {
   "display_name": "Python 3",
   "language": "python",
   "name": "python3"
  },
  "language_info": {
   "codemirror_mode": {
    "name": "ipython",
    "version": 3
   },
   "file_extension": ".py",
   "mimetype": "text/x-python",
   "name": "python",
   "nbconvert_exporter": "python",
   "pygments_lexer": "ipython3",
   "version": "3.5.2"
  },
  "toc": {
   "base_numbering": 1,
   "nav_menu": {},
   "number_sections": true,
   "sideBar": true,
   "skip_h1_title": false,
   "title_cell": "Table of Contents",
   "title_sidebar": "Contents",
   "toc_cell": false,
   "toc_position": {},
   "toc_section_display": true,
   "toc_window_display": false
  }
 },
 "nbformat": 4,
 "nbformat_minor": 2
}
